{
 "cells": [
  {
   "cell_type": "markdown",
   "metadata": {},
   "source": [
    "# Email Spam Detection"
   ]
  },
  {
   "cell_type": "markdown",
   "metadata": {},
   "source": [
    "In this project we used text classification to determined whether the email is spam or not. \n",
    "We used NLP methods to prepare and clean our text data (tokenization, remove stop words, stemming) and different machine learning algorithms to get more accurate predictions. \n",
    "The following classification algorithms have been used: Logistic Regression, \n",
    "    Naive Bayes, \n",
    "    Support Vector Machine (SVM),\n",
    "    Random Forest, \n",
    "    Stochastic Gradient Descent and Gradient Boosting."
   ]
  },
  {
   "cell_type": "markdown",
   "metadata": {},
   "source": [
    "1. PIP instal imblearn\n",
    "2. Loading Required libaries and data\n",
    "3. Exploratory Data Analysis\n",
    "4. Data Pre-processing\n",
    "5. Vectorization\n",
    "6. SMOTE\n",
    "7. Model building\n",
    "8. Accuracy of different model \n",
    "9. joblib to save\n",
    "10. Conclusion"
   ]
  },
  {
   "cell_type": "code",
   "execution_count": 1,
   "metadata": {},
   "outputs": [
    {
     "name": "stdout",
     "output_type": "stream",
     "text": [
      "Requirement already satisfied: imblearn in c:\\users\\sai\\anaconda3\\lib\\site-packages (0.0)\n",
      "Requirement already satisfied: imbalanced-learn in c:\\users\\sai\\anaconda3\\lib\\site-packages (from imblearn) (0.7.0)\n",
      "Requirement already satisfied: joblib>=0.11 in c:\\users\\sai\\anaconda3\\lib\\site-packages (from imbalanced-learn->imblearn) (0.17.0)\n",
      "Requirement already satisfied: numpy>=1.13.3 in c:\\users\\sai\\anaconda3\\lib\\site-packages (from imbalanced-learn->imblearn) (1.19.2)\n",
      "Requirement already satisfied: scikit-learn>=0.23 in c:\\users\\sai\\anaconda3\\lib\\site-packages (from imbalanced-learn->imblearn) (0.23.2)\n",
      "Requirement already satisfied: scipy>=0.19.1 in c:\\users\\sai\\anaconda3\\lib\\site-packages (from imbalanced-learn->imblearn) (1.5.2)\n",
      "Requirement already satisfied: threadpoolctl>=2.0.0 in c:\\users\\sai\\anaconda3\\lib\\site-packages (from scikit-learn>=0.23->imbalanced-learn->imblearn) (2.1.0)\n"
     ]
    }
   ],
   "source": [
    "!pip install imblearn"
   ]
  },
  {
   "cell_type": "markdown",
   "metadata": {},
   "source": [
    "## Loading Required libaries and data"
   ]
  },
  {
   "cell_type": "code",
   "execution_count": 2,
   "metadata": {},
   "outputs": [
    {
     "name": "stdout",
     "output_type": "stream",
     "text": [
      "showing info https://raw.githubusercontent.com/nltk/nltk_data/gh-pages/index.xml\n"
     ]
    }
   ],
   "source": [
    "import re\n",
    "import nltk\n",
    "nltk.download()\n",
    "import pandas as pd\n",
    "import numpy as np\n",
    "import matplotlib.pyplot as plt\n",
    "import seaborn as sb\n",
    "\n",
    "from nltk.corpus import stopwords\n",
    "from nltk.stem import PorterStemmer\n",
    "from nltk.tokenize import sent_tokenize, word_tokenize\n",
    "\n",
    "from sklearn.model_selection import train_test_split\n",
    "from sklearn.pipeline import Pipeline\n",
    "from sklearn.feature_extraction.text import CountVectorizer, TfidfTransformer\n",
    "from imblearn.over_sampling import SMOTE\n",
    "\n",
    "from sklearn.tree import DecisionTreeClassifier\n",
    "from sklearn.naive_bayes import MultinomialNB\n",
    "from sklearn.ensemble import RandomForestClassifier\n",
    "from sklearn.svm import LinearSVC\n",
    "from sklearn.linear_model import SGDClassifier\n",
    "from sklearn.ensemble import GradientBoostingClassifier\n",
    "from sklearn.metrics import confusion_matrix, accuracy_score, classification_report\n",
    "\n",
    "import joblib\n",
    "import warnings\n",
    "warnings.filterwarnings('ignore')\n",
    "\n",
    "pd.set_option('display.max_rows', 500)\n",
    "pd.set_option('display.max_columns', 500)\n",
    "pd.set_option('display.width', 1000)"
   ]
  },
  {
   "cell_type": "code",
   "execution_count": 3,
   "metadata": {},
   "outputs": [
    {
     "data": {
      "text/html": [
       "<div>\n",
       "<style scoped>\n",
       "    .dataframe tbody tr th:only-of-type {\n",
       "        vertical-align: middle;\n",
       "    }\n",
       "\n",
       "    .dataframe tbody tr th {\n",
       "        vertical-align: top;\n",
       "    }\n",
       "\n",
       "    .dataframe thead th {\n",
       "        text-align: right;\n",
       "    }\n",
       "</style>\n",
       "<table border=\"1\" class=\"dataframe\">\n",
       "  <thead>\n",
       "    <tr style=\"text-align: right;\">\n",
       "      <th></th>\n",
       "      <th>subject</th>\n",
       "      <th>message</th>\n",
       "      <th>label</th>\n",
       "    </tr>\n",
       "  </thead>\n",
       "  <tbody>\n",
       "    <tr>\n",
       "      <th>0</th>\n",
       "      <td>job posting - apple-iss research center</td>\n",
       "      <td>content - length : 3386 apple-iss research cen...</td>\n",
       "      <td>0</td>\n",
       "    </tr>\n",
       "    <tr>\n",
       "      <th>1</th>\n",
       "      <td>NaN</td>\n",
       "      <td>lang classification grimes , joseph e . and ba...</td>\n",
       "      <td>0</td>\n",
       "    </tr>\n",
       "    <tr>\n",
       "      <th>2</th>\n",
       "      <td>query : letter frequencies for text identifica...</td>\n",
       "      <td>i am posting this inquiry for sergei atamas ( ...</td>\n",
       "      <td>0</td>\n",
       "    </tr>\n",
       "    <tr>\n",
       "      <th>3</th>\n",
       "      <td>risk</td>\n",
       "      <td>a colleague and i are researching the differin...</td>\n",
       "      <td>0</td>\n",
       "    </tr>\n",
       "    <tr>\n",
       "      <th>4</th>\n",
       "      <td>request book information</td>\n",
       "      <td>earlier this morning i was on the phone with a...</td>\n",
       "      <td>0</td>\n",
       "    </tr>\n",
       "    <tr>\n",
       "      <th>...</th>\n",
       "      <td>...</td>\n",
       "      <td>...</td>\n",
       "      <td>...</td>\n",
       "    </tr>\n",
       "    <tr>\n",
       "      <th>2888</th>\n",
       "      <td>love your profile - ysuolvpv</td>\n",
       "      <td>hello thanks for stopping by ! ! we have taken...</td>\n",
       "      <td>1</td>\n",
       "    </tr>\n",
       "    <tr>\n",
       "      <th>2889</th>\n",
       "      <td>you have been asked to join kiddin</td>\n",
       "      <td>the list owner of : \" kiddin \" has invited you...</td>\n",
       "      <td>1</td>\n",
       "    </tr>\n",
       "    <tr>\n",
       "      <th>2890</th>\n",
       "      <td>anglicization of composers ' names</td>\n",
       "      <td>judging from the return post , i must have sou...</td>\n",
       "      <td>0</td>\n",
       "    </tr>\n",
       "    <tr>\n",
       "      <th>2891</th>\n",
       "      <td>re : 6 . 797 , comparative method : n - ary co...</td>\n",
       "      <td>gotcha ! there are two separate fallacies in t...</td>\n",
       "      <td>0</td>\n",
       "    </tr>\n",
       "    <tr>\n",
       "      <th>2892</th>\n",
       "      <td>re : american - english in australia</td>\n",
       "      <td>hello ! i ' m working on a thesis concerning a...</td>\n",
       "      <td>0</td>\n",
       "    </tr>\n",
       "  </tbody>\n",
       "</table>\n",
       "<p>2893 rows × 3 columns</p>\n",
       "</div>"
      ],
      "text/plain": [
       "                                                subject                                            message  label\n",
       "0               job posting - apple-iss research center  content - length : 3386 apple-iss research cen...      0\n",
       "1                                                   NaN  lang classification grimes , joseph e . and ba...      0\n",
       "2     query : letter frequencies for text identifica...  i am posting this inquiry for sergei atamas ( ...      0\n",
       "3                                                  risk  a colleague and i are researching the differin...      0\n",
       "4                              request book information  earlier this morning i was on the phone with a...      0\n",
       "...                                                 ...                                                ...    ...\n",
       "2888                       love your profile - ysuolvpv  hello thanks for stopping by ! ! we have taken...      1\n",
       "2889                 you have been asked to join kiddin  the list owner of : \" kiddin \" has invited you...      1\n",
       "2890                 anglicization of composers ' names  judging from the return post , i must have sou...      0\n",
       "2891  re : 6 . 797 , comparative method : n - ary co...  gotcha ! there are two separate fallacies in t...      0\n",
       "2892               re : american - english in australia  hello ! i ' m working on a thesis concerning a...      0\n",
       "\n",
       "[2893 rows x 3 columns]"
      ]
     },
     "execution_count": 3,
     "metadata": {},
     "output_type": "execute_result"
    }
   ],
   "source": [
    "# getting csv formate data\n",
    "\n",
    "data=pd.read_csv('messages.csv')\n",
    "data"
   ]
  },
  {
   "cell_type": "code",
   "execution_count": 4,
   "metadata": {},
   "outputs": [
    {
     "data": {
      "text/plain": [
       "subject    2613\n",
       "message    2859\n",
       "label         2\n",
       "dtype: int64"
      ]
     },
     "execution_count": 4,
     "metadata": {},
     "output_type": "execute_result"
    }
   ],
   "source": [
    "# getting the unique values in a column, total number of unique values in a column\n",
    "\n",
    "data.nunique()"
   ]
  },
  {
   "cell_type": "code",
   "execution_count": 5,
   "metadata": {},
   "outputs": [
    {
     "data": {
      "text/plain": [
       "subject    62\n",
       "message     0\n",
       "label       0\n",
       "dtype: int64"
      ]
     },
     "execution_count": 5,
     "metadata": {},
     "output_type": "execute_result"
    }
   ],
   "source": [
    "# finding null values, each column gives out total number of null values of that column\n",
    "\n",
    "data.isnull().sum()"
   ]
  },
  {
   "cell_type": "code",
   "execution_count": 6,
   "metadata": {},
   "outputs": [
    {
     "name": "stdout",
     "output_type": "stream",
     "text": [
      "<class 'pandas.core.frame.DataFrame'>\n",
      "RangeIndex: 2893 entries, 0 to 2892\n",
      "Data columns (total 3 columns):\n",
      " #   Column   Non-Null Count  Dtype \n",
      "---  ------   --------------  ----- \n",
      " 0   subject  2831 non-null   object\n",
      " 1   message  2893 non-null   object\n",
      " 2   label    2893 non-null   int64 \n",
      "dtypes: int64(1), object(2)\n",
      "memory usage: 67.9+ KB\n"
     ]
    }
   ],
   "source": [
    "# getting information about each column which gives null value, count and data type\n",
    "\n",
    "data.info()"
   ]
  },
  {
   "cell_type": "code",
   "execution_count": 7,
   "metadata": {},
   "outputs": [
    {
     "data": {
      "text/plain": [
       "\"content - length : 3386 apple-iss research center a us $ 10 million joint venture between apple computer inc . and the institute of systems science of the national university of singapore , located in singapore , is looking for : a senior speech scientist - - - - - - - - - - - - - - - - - - - - - - - - - the successful candidate will have research expertise in computational linguistics , including natural language processing and * * english * * and * * chinese * * statistical language modeling . knowledge of state-of - the-art corpus-based n - gram language models , cache language models , and part-of - speech language models are required . a text - to - speech project leader - - - - - - - - - - - - - - - - - - - - - - - - - - - - - - - the successful candidate will have research expertise expertise in two or more of the following areas : computational linguistics , including natural language parsing , lexical database design , and statistical language modeling ; text tokenization and normalization ; prosodic analysis . substantial knowledge of the phonology , syntax , and semantics of chinese is required . knowledge of acoustic phonetics and / or speech signal processing is desirable . both candidates will have a phd with at least 2 to 4 years of relevant work experience , or a technical msc degree with at least 5 to 7 years of experienc e . very strong software engineering skills , including design and implementation , and productization are required in these positions . knowledge of c , c + + and unix are preferred . a unix & c programmer - - - - - - - - - - - - - - - - - - - - we are looking for an experienced unix & c programmer , preferably with good industry experience , to join us in breaking new frontiers . strong knowledge of unix tools ( compilers , linkers , make , x - windows , e - mac , . . . ) and experience in matlab required . sun and silicon graphic experience is an advantage . programmers with less than two years industry experience need not apply . these positions include interaction with scientists in the national university of singapore , and with apple 's speech research and productization efforts located in cupertino , california . attendance and publication in international scientific / engineering conferences is encouraged . benefits include an internationally competitive salary , housing subsidy , and relocation expenses . _ _ _ _ _ _ _ _ _ _ _ _ _ _ _ _ _ _ _ _ _ _ _ _ _ _ _ _ _ _ _ _ _ _ _ _ _ _ _ _ _ _ _ _ _ _ _ _ _ _ _ _ _ _ _ _ _ _ _ _ _ _ _ _ _ _ send a complete resume , enclosing personal particulars , qualifications , experience and contact telephone number to : mr jean - luc lebrun center manager apple - iss research center , institute of systems science heng mui keng terrace , singapore 0511 tel : ( 65 ) 772-6571 fax : ( 65 ) 776-4005 email : jllebrun @ iss . nus . sg\\n\""
      ]
     },
     "execution_count": 7,
     "metadata": {},
     "output_type": "execute_result"
    }
   ],
   "source": [
    "# message review\n",
    "\n",
    "data['message'][0]"
   ]
  },
  {
   "cell_type": "code",
   "execution_count": 8,
   "metadata": {},
   "outputs": [
    {
     "data": {
      "text/html": [
       "<div>\n",
       "<style scoped>\n",
       "    .dataframe tbody tr th:only-of-type {\n",
       "        vertical-align: middle;\n",
       "    }\n",
       "\n",
       "    .dataframe tbody tr th {\n",
       "        vertical-align: top;\n",
       "    }\n",
       "\n",
       "    .dataframe thead th {\n",
       "        text-align: right;\n",
       "    }\n",
       "</style>\n",
       "<table border=\"1\" class=\"dataframe\">\n",
       "  <thead>\n",
       "    <tr style=\"text-align: right;\">\n",
       "      <th></th>\n",
       "      <th>label</th>\n",
       "    </tr>\n",
       "  </thead>\n",
       "  <tbody>\n",
       "    <tr>\n",
       "      <th>count</th>\n",
       "      <td>2893.000000</td>\n",
       "    </tr>\n",
       "    <tr>\n",
       "      <th>mean</th>\n",
       "      <td>0.166263</td>\n",
       "    </tr>\n",
       "    <tr>\n",
       "      <th>std</th>\n",
       "      <td>0.372381</td>\n",
       "    </tr>\n",
       "    <tr>\n",
       "      <th>min</th>\n",
       "      <td>0.000000</td>\n",
       "    </tr>\n",
       "    <tr>\n",
       "      <th>25%</th>\n",
       "      <td>0.000000</td>\n",
       "    </tr>\n",
       "    <tr>\n",
       "      <th>50%</th>\n",
       "      <td>0.000000</td>\n",
       "    </tr>\n",
       "    <tr>\n",
       "      <th>75%</th>\n",
       "      <td>0.000000</td>\n",
       "    </tr>\n",
       "    <tr>\n",
       "      <th>max</th>\n",
       "      <td>1.000000</td>\n",
       "    </tr>\n",
       "  </tbody>\n",
       "</table>\n",
       "</div>"
      ],
      "text/plain": [
       "             label\n",
       "count  2893.000000\n",
       "mean      0.166263\n",
       "std       0.372381\n",
       "min       0.000000\n",
       "25%       0.000000\n",
       "50%       0.000000\n",
       "75%       0.000000\n",
       "max       1.000000"
      ]
     },
     "execution_count": 8,
     "metadata": {},
     "output_type": "execute_result"
    }
   ],
   "source": [
    "#used to view some basic statistical details like percentile, mean, std and so on\n",
    "\n",
    "data.describe()"
   ]
  },
  {
   "cell_type": "markdown",
   "metadata": {},
   "source": [
    "## Exploratory Data Analysis"
   ]
  },
  {
   "cell_type": "code",
   "execution_count": 9,
   "metadata": {},
   "outputs": [
    {
     "name": "stdout",
     "output_type": "stream",
     "text": [
      "0    83.373661\n",
      "1    16.626339\n",
      "Name: label, dtype: float64\n"
     ]
    },
    {
     "data": {
      "image/png": "[encoded data removed]",
      "text/plain": [
       "<Figure size 1152x288 with 1 Axes>"
      ]
     },
     "metadata": {
      "needs_background": "light"
     },
     "output_type": "display_data"
    }
   ],
   "source": [
    "plt.figure(figsize=(16,4))\n",
    "plt.xticks(rotation=90)\n",
    "sb.set_style('dark')\n",
    "print(data['label'].value_counts()/len(data)*100)\n",
    "sb.countplot(x='label',data=data)\n",
    "plt.xlabel('label')\n",
    "plt.title('Number spam messages');"
   ]
  },
  {
   "cell_type": "markdown",
   "metadata": {},
   "source": [
    "### Representing of spam with pie chart"
   ]
  },
  {
   "cell_type": "code",
   "execution_count": 10,
   "metadata": {},
   "outputs": [
    {
     "data": {
      "image/png": "[encoded data removed]",
      "text/plain": [
       "<Figure size 432x432 with 1 Axes>"
      ]
     },
     "metadata": {},
     "output_type": "display_data"
    }
   ],
   "source": [
    "data[\"label\"].value_counts().plot(kind = 'pie',\n",
    "                                  explode=[0, 0.1],\n",
    "                                  figsize=(6, 6),\n",
    "                                  autopct='%1.1f%%',\n",
    "                                  shadow=True)\n",
    "plt.title(\"Spam vs Ham\")\n",
    "plt.legend([\"Ham\", \"Spam\"])\n",
    "plt.show()"
   ]
  },
  {
   "cell_type": "markdown",
   "metadata": {},
   "source": [
    "Through the above pie chart we can get the percentage of spam and ham "
   ]
  },
  {
   "cell_type": "markdown",
   "metadata": {},
   "source": [
    "### Visual representation of message length"
   ]
  },
  {
   "cell_type": "code",
   "execution_count": 11,
   "metadata": {},
   "outputs": [
    {
     "data": {
      "text/html": [
       "<div>\n",
       "<style scoped>\n",
       "    .dataframe tbody tr th:only-of-type {\n",
       "        vertical-align: middle;\n",
       "    }\n",
       "\n",
       "    .dataframe tbody tr th {\n",
       "        vertical-align: top;\n",
       "    }\n",
       "\n",
       "    .dataframe thead th {\n",
       "        text-align: right;\n",
       "    }\n",
       "</style>\n",
       "<table border=\"1\" class=\"dataframe\">\n",
       "  <thead>\n",
       "    <tr style=\"text-align: right;\">\n",
       "      <th></th>\n",
       "      <th>subject</th>\n",
       "      <th>message</th>\n",
       "      <th>label</th>\n",
       "      <th>length</th>\n",
       "    </tr>\n",
       "  </thead>\n",
       "  <tbody>\n",
       "    <tr>\n",
       "      <th>0</th>\n",
       "      <td>job posting - apple-iss research center</td>\n",
       "      <td>content - length : 3386 apple-iss research cen...</td>\n",
       "      <td>0</td>\n",
       "      <td>2856</td>\n",
       "    </tr>\n",
       "    <tr>\n",
       "      <th>1</th>\n",
       "      <td>NaN</td>\n",
       "      <td>lang classification grimes , joseph e . and ba...</td>\n",
       "      <td>0</td>\n",
       "      <td>1800</td>\n",
       "    </tr>\n",
       "    <tr>\n",
       "      <th>2</th>\n",
       "      <td>query : letter frequencies for text identifica...</td>\n",
       "      <td>i am posting this inquiry for sergei atamas ( ...</td>\n",
       "      <td>0</td>\n",
       "      <td>1435</td>\n",
       "    </tr>\n",
       "    <tr>\n",
       "      <th>3</th>\n",
       "      <td>risk</td>\n",
       "      <td>a colleague and i are researching the differin...</td>\n",
       "      <td>0</td>\n",
       "      <td>324</td>\n",
       "    </tr>\n",
       "    <tr>\n",
       "      <th>4</th>\n",
       "      <td>request book information</td>\n",
       "      <td>earlier this morning i was on the phone with a...</td>\n",
       "      <td>0</td>\n",
       "      <td>1046</td>\n",
       "    </tr>\n",
       "    <tr>\n",
       "      <th>5</th>\n",
       "      <td>call for abstracts : optimality in syntactic t...</td>\n",
       "      <td>content - length : 4437 call for papers is the...</td>\n",
       "      <td>0</td>\n",
       "      <td>4492</td>\n",
       "    </tr>\n",
       "    <tr>\n",
       "      <th>6</th>\n",
       "      <td>m . a . in scandinavian linguistics</td>\n",
       "      <td>m . a . in scandinavian linguistics at the uni...</td>\n",
       "      <td>0</td>\n",
       "      <td>2201</td>\n",
       "    </tr>\n",
       "    <tr>\n",
       "      <th>7</th>\n",
       "      <td>call for papers : linguistics session of the m...</td>\n",
       "      <td>call for papers linguistics session - - midwes...</td>\n",
       "      <td>0</td>\n",
       "      <td>802</td>\n",
       "    </tr>\n",
       "    <tr>\n",
       "      <th>8</th>\n",
       "      <td>foreign language in commercials</td>\n",
       "      <td>content - length : 1937 greetings ! i ' m wond...</td>\n",
       "      <td>0</td>\n",
       "      <td>1230</td>\n",
       "    </tr>\n",
       "    <tr>\n",
       "      <th>9</th>\n",
       "      <td>fulbright announcement : please post / dissemi...</td>\n",
       "      <td>fulbright announcement : please post / dissemi...</td>\n",
       "      <td>0</td>\n",
       "      <td>1478</td>\n",
       "    </tr>\n",
       "  </tbody>\n",
       "</table>\n",
       "</div>"
      ],
      "text/plain": [
       "                                             subject                                            message  label  length\n",
       "0            job posting - apple-iss research center  content - length : 3386 apple-iss research cen...      0    2856\n",
       "1                                                NaN  lang classification grimes , joseph e . and ba...      0    1800\n",
       "2  query : letter frequencies for text identifica...  i am posting this inquiry for sergei atamas ( ...      0    1435\n",
       "3                                               risk  a colleague and i are researching the differin...      0     324\n",
       "4                           request book information  earlier this morning i was on the phone with a...      0    1046\n",
       "5  call for abstracts : optimality in syntactic t...  content - length : 4437 call for papers is the...      0    4492\n",
       "6                m . a . in scandinavian linguistics  m . a . in scandinavian linguistics at the uni...      0    2201\n",
       "7  call for papers : linguistics session of the m...  call for papers linguistics session - - midwes...      0     802\n",
       "8                    foreign language in commercials  content - length : 1937 greetings ! i ' m wond...      0    1230\n",
       "9  fulbright announcement : please post / dissemi...  fulbright announcement : please post / dissemi...      0    1478"
      ]
     },
     "execution_count": 11,
     "metadata": {},
     "output_type": "execute_result"
    }
   ],
   "source": [
    "# Length of each mail \n",
    "\n",
    "data['length'] = data.message.apply(len)\n",
    "data.head(10)"
   ]
  },
  {
   "cell_type": "code",
   "execution_count": 12,
   "metadata": {},
   "outputs": [
    {
     "data": {
      "image/png": "[encoded data removed]",
      "text/plain": [
       "<Figure size 1152x576 with 1 Axes>"
      ]
     },
     "metadata": {},
     "output_type": "display_data"
    }
   ],
   "source": [
    "plt.figure(figsize=(16,8))\n",
    "sb.set_style('dark')\n",
    "data[data.label == 0].length.plot(bins=35, kind='hist', color='blue', label='Ham', alpha=0.6)\n",
    "data[data.label == 1].length.plot(kind='hist', color='red', label='Spam', alpha=0.6)\n",
    "plt.legend()\n",
    "plt.xlabel(\"Message Length\");"
   ]
  },
  {
   "cell_type": "markdown",
   "metadata": {},
   "source": [
    "## Data Pre-processing"
   ]
  },
  {
   "cell_type": "code",
   "execution_count": 13,
   "metadata": {},
   "outputs": [
    {
     "data": {
      "text/html": [
       "<div>\n",
       "<style scoped>\n",
       "    .dataframe tbody tr th:only-of-type {\n",
       "        vertical-align: middle;\n",
       "    }\n",
       "\n",
       "    .dataframe tbody tr th {\n",
       "        vertical-align: top;\n",
       "    }\n",
       "\n",
       "    .dataframe thead th {\n",
       "        text-align: right;\n",
       "    }\n",
       "</style>\n",
       "<table border=\"1\" class=\"dataframe\">\n",
       "  <thead>\n",
       "    <tr style=\"text-align: right;\">\n",
       "      <th></th>\n",
       "      <th>message</th>\n",
       "      <th>label</th>\n",
       "      <th>length</th>\n",
       "    </tr>\n",
       "  </thead>\n",
       "  <tbody>\n",
       "    <tr>\n",
       "      <th>0</th>\n",
       "      <td>content - length : 3386 apple-iss research cen...</td>\n",
       "      <td>0</td>\n",
       "      <td>2856</td>\n",
       "    </tr>\n",
       "    <tr>\n",
       "      <th>1</th>\n",
       "      <td>lang classification grimes , joseph e . and ba...</td>\n",
       "      <td>0</td>\n",
       "      <td>1800</td>\n",
       "    </tr>\n",
       "    <tr>\n",
       "      <th>2</th>\n",
       "      <td>i am posting this inquiry for sergei atamas ( ...</td>\n",
       "      <td>0</td>\n",
       "      <td>1435</td>\n",
       "    </tr>\n",
       "    <tr>\n",
       "      <th>3</th>\n",
       "      <td>a colleague and i are researching the differin...</td>\n",
       "      <td>0</td>\n",
       "      <td>324</td>\n",
       "    </tr>\n",
       "    <tr>\n",
       "      <th>4</th>\n",
       "      <td>earlier this morning i was on the phone with a...</td>\n",
       "      <td>0</td>\n",
       "      <td>1046</td>\n",
       "    </tr>\n",
       "    <tr>\n",
       "      <th>...</th>\n",
       "      <td>...</td>\n",
       "      <td>...</td>\n",
       "      <td>...</td>\n",
       "    </tr>\n",
       "    <tr>\n",
       "      <th>2888</th>\n",
       "      <td>hello thanks for stopping by ! ! we have taken...</td>\n",
       "      <td>1</td>\n",
       "      <td>262</td>\n",
       "    </tr>\n",
       "    <tr>\n",
       "      <th>2889</th>\n",
       "      <td>the list owner of : \" kiddin \" has invited you...</td>\n",
       "      <td>1</td>\n",
       "      <td>2163</td>\n",
       "    </tr>\n",
       "    <tr>\n",
       "      <th>2890</th>\n",
       "      <td>judging from the return post , i must have sou...</td>\n",
       "      <td>0</td>\n",
       "      <td>1039</td>\n",
       "    </tr>\n",
       "    <tr>\n",
       "      <th>2891</th>\n",
       "      <td>gotcha ! there are two separate fallacies in t...</td>\n",
       "      <td>0</td>\n",
       "      <td>2949</td>\n",
       "    </tr>\n",
       "    <tr>\n",
       "      <th>2892</th>\n",
       "      <td>hello ! i ' m working on a thesis concerning a...</td>\n",
       "      <td>0</td>\n",
       "      <td>700</td>\n",
       "    </tr>\n",
       "  </tbody>\n",
       "</table>\n",
       "<p>2893 rows × 3 columns</p>\n",
       "</div>"
      ],
      "text/plain": [
       "                                                message  label  length\n",
       "0     content - length : 3386 apple-iss research cen...      0    2856\n",
       "1     lang classification grimes , joseph e . and ba...      0    1800\n",
       "2     i am posting this inquiry for sergei atamas ( ...      0    1435\n",
       "3     a colleague and i are researching the differin...      0     324\n",
       "4     earlier this morning i was on the phone with a...      0    1046\n",
       "...                                                 ...    ...     ...\n",
       "2888  hello thanks for stopping by ! ! we have taken...      1     262\n",
       "2889  the list owner of : \" kiddin \" has invited you...      1    2163\n",
       "2890  judging from the return post , i must have sou...      0    1039\n",
       "2891  gotcha ! there are two separate fallacies in t...      0    2949\n",
       "2892  hello ! i ' m working on a thesis concerning a...      0     700\n",
       "\n",
       "[2893 rows x 3 columns]"
      ]
     },
     "execution_count": 13,
     "metadata": {},
     "output_type": "execute_result"
    }
   ],
   "source": [
    "# removing column which is not useful for us\n",
    "\n",
    "data.drop(['subject'], axis=1, inplace=True)\n",
    "data"
   ]
  },
  {
   "cell_type": "code",
   "execution_count": 14,
   "metadata": {},
   "outputs": [
    {
     "data": {
      "text/html": [
       "<div>\n",
       "<style scoped>\n",
       "    .dataframe tbody tr th:only-of-type {\n",
       "        vertical-align: middle;\n",
       "    }\n",
       "\n",
       "    .dataframe tbody tr th {\n",
       "        vertical-align: top;\n",
       "    }\n",
       "\n",
       "    .dataframe thead th {\n",
       "        text-align: right;\n",
       "    }\n",
       "</style>\n",
       "<table border=\"1\" class=\"dataframe\">\n",
       "  <thead>\n",
       "    <tr style=\"text-align: right;\">\n",
       "      <th></th>\n",
       "      <th>Message</th>\n",
       "      <th>Class</th>\n",
       "      <th>length</th>\n",
       "    </tr>\n",
       "  </thead>\n",
       "  <tbody>\n",
       "    <tr>\n",
       "      <th>0</th>\n",
       "      <td>content - length : 3386 apple-iss research cen...</td>\n",
       "      <td>0</td>\n",
       "      <td>2856</td>\n",
       "    </tr>\n",
       "    <tr>\n",
       "      <th>1</th>\n",
       "      <td>lang classification grimes , joseph e . and ba...</td>\n",
       "      <td>0</td>\n",
       "      <td>1800</td>\n",
       "    </tr>\n",
       "    <tr>\n",
       "      <th>2</th>\n",
       "      <td>i am posting this inquiry for sergei atamas ( ...</td>\n",
       "      <td>0</td>\n",
       "      <td>1435</td>\n",
       "    </tr>\n",
       "    <tr>\n",
       "      <th>3</th>\n",
       "      <td>a colleague and i are researching the differin...</td>\n",
       "      <td>0</td>\n",
       "      <td>324</td>\n",
       "    </tr>\n",
       "    <tr>\n",
       "      <th>4</th>\n",
       "      <td>earlier this morning i was on the phone with a...</td>\n",
       "      <td>0</td>\n",
       "      <td>1046</td>\n",
       "    </tr>\n",
       "  </tbody>\n",
       "</table>\n",
       "</div>"
      ],
      "text/plain": [
       "                                             Message  Class  length\n",
       "0  content - length : 3386 apple-iss research cen...      0    2856\n",
       "1  lang classification grimes , joseph e . and ba...      0    1800\n",
       "2  i am posting this inquiry for sergei atamas ( ...      0    1435\n",
       "3  a colleague and i are researching the differin...      0     324\n",
       "4  earlier this morning i was on the phone with a...      0    1046"
      ]
     },
     "execution_count": 14,
     "metadata": {},
     "output_type": "execute_result"
    }
   ],
   "source": [
    "# renaming the columns \n",
    "\n",
    "data.rename(columns={'message':'Message','label': 'Class'}, inplace=True)\n",
    "data.head()"
   ]
  },
  {
   "cell_type": "markdown",
   "metadata": {},
   "source": [
    "### Cleaning text process"
   ]
  },
  {
   "cell_type": "code",
   "execution_count": 15,
   "metadata": {},
   "outputs": [
    {
     "data": {
      "text/html": [
       "<div>\n",
       "<style scoped>\n",
       "    .dataframe tbody tr th:only-of-type {\n",
       "        vertical-align: middle;\n",
       "    }\n",
       "\n",
       "    .dataframe tbody tr th {\n",
       "        vertical-align: top;\n",
       "    }\n",
       "\n",
       "    .dataframe thead th {\n",
       "        text-align: right;\n",
       "    }\n",
       "</style>\n",
       "<table border=\"1\" class=\"dataframe\">\n",
       "  <thead>\n",
       "    <tr style=\"text-align: right;\">\n",
       "      <th></th>\n",
       "      <th>Message</th>\n",
       "      <th>Class</th>\n",
       "      <th>length</th>\n",
       "      <th>Message_clean_text</th>\n",
       "    </tr>\n",
       "  </thead>\n",
       "  <tbody>\n",
       "    <tr>\n",
       "      <th>0</th>\n",
       "      <td>content - length : 3386 apple-iss research cen...</td>\n",
       "      <td>0</td>\n",
       "      <td>2856</td>\n",
       "      <td>content length apple iss research center a us ...</td>\n",
       "    </tr>\n",
       "    <tr>\n",
       "      <th>1</th>\n",
       "      <td>lang classification grimes , joseph e . and ba...</td>\n",
       "      <td>0</td>\n",
       "      <td>1800</td>\n",
       "      <td>lang classification grimes joseph e and barbar...</td>\n",
       "    </tr>\n",
       "    <tr>\n",
       "      <th>2</th>\n",
       "      <td>i am posting this inquiry for sergei atamas ( ...</td>\n",
       "      <td>0</td>\n",
       "      <td>1435</td>\n",
       "      <td>i am posting this inquiry for sergei atamas sa...</td>\n",
       "    </tr>\n",
       "    <tr>\n",
       "      <th>3</th>\n",
       "      <td>a colleague and i are researching the differin...</td>\n",
       "      <td>0</td>\n",
       "      <td>324</td>\n",
       "      <td>a colleague and i are researching the differin...</td>\n",
       "    </tr>\n",
       "    <tr>\n",
       "      <th>4</th>\n",
       "      <td>earlier this morning i was on the phone with a...</td>\n",
       "      <td>0</td>\n",
       "      <td>1046</td>\n",
       "      <td>earlier this morning i was on the phone with a...</td>\n",
       "    </tr>\n",
       "  </tbody>\n",
       "</table>\n",
       "</div>"
      ],
      "text/plain": [
       "                                             Message  Class  length                                 Message_clean_text\n",
       "0  content - length : 3386 apple-iss research cen...      0    2856  content length apple iss research center a us ...\n",
       "1  lang classification grimes , joseph e . and ba...      0    1800  lang classification grimes joseph e and barbar...\n",
       "2  i am posting this inquiry for sergei atamas ( ...      0    1435  i am posting this inquiry for sergei atamas sa...\n",
       "3  a colleague and i are researching the differin...      0     324  a colleague and i are researching the differin...\n",
       "4  earlier this morning i was on the phone with a...      0    1046  earlier this morning i was on the phone with a..."
      ]
     },
     "execution_count": 15,
     "metadata": {},
     "output_type": "execute_result"
    }
   ],
   "source": [
    "# The function to clean text\n",
    "\n",
    "def clean_text(words):\n",
    "    \n",
    "    words = re.sub(\"[^a-zA-Z]\",\" \", words)\n",
    "    text = words.lower().split()                   \n",
    "    return \" \".join(text)\n",
    "\n",
    "data['Message_clean_text'] = data['Message'].apply(clean_text)\n",
    "data.head()"
   ]
  },
  {
   "cell_type": "markdown",
   "metadata": {},
   "source": [
    "### Removing stop words"
   ]
  },
  {
   "cell_type": "code",
   "execution_count": 16,
   "metadata": {},
   "outputs": [
    {
     "name": "stdout",
     "output_type": "stream",
     "text": [
      "['i', \"you've\", 'himself', 'they', 'that', 'been', 'a', 'while', 'through', 'in', 'here', 'few', 'own', 'just', 're', 'doesn', 'ma', \"shouldn't\"]\n"
     ]
    },
    {
     "data": {
      "text/html": [
       "<div>\n",
       "<style scoped>\n",
       "    .dataframe tbody tr th:only-of-type {\n",
       "        vertical-align: middle;\n",
       "    }\n",
       "\n",
       "    .dataframe tbody tr th {\n",
       "        vertical-align: top;\n",
       "    }\n",
       "\n",
       "    .dataframe thead th {\n",
       "        text-align: right;\n",
       "    }\n",
       "</style>\n",
       "<table border=\"1\" class=\"dataframe\">\n",
       "  <thead>\n",
       "    <tr style=\"text-align: right;\">\n",
       "      <th></th>\n",
       "      <th>Message</th>\n",
       "      <th>Class</th>\n",
       "      <th>length</th>\n",
       "      <th>Message_clean_text</th>\n",
       "      <th>Message_remove_stopwords</th>\n",
       "    </tr>\n",
       "  </thead>\n",
       "  <tbody>\n",
       "    <tr>\n",
       "      <th>0</th>\n",
       "      <td>content - length : 3386 apple-iss research cen...</td>\n",
       "      <td>0</td>\n",
       "      <td>2856</td>\n",
       "      <td>content length apple iss research center a us ...</td>\n",
       "      <td>content length apple iss research center us mi...</td>\n",
       "    </tr>\n",
       "    <tr>\n",
       "      <th>1</th>\n",
       "      <td>lang classification grimes , joseph e . and ba...</td>\n",
       "      <td>0</td>\n",
       "      <td>1800</td>\n",
       "      <td>lang classification grimes joseph e and barbar...</td>\n",
       "      <td>lang classification grimes joseph e barbara f ...</td>\n",
       "    </tr>\n",
       "    <tr>\n",
       "      <th>2</th>\n",
       "      <td>i am posting this inquiry for sergei atamas ( ...</td>\n",
       "      <td>0</td>\n",
       "      <td>1435</td>\n",
       "      <td>i am posting this inquiry for sergei atamas sa...</td>\n",
       "      <td>posting inquiry sergei atamas satamas umabnet ...</td>\n",
       "    </tr>\n",
       "    <tr>\n",
       "      <th>3</th>\n",
       "      <td>a colleague and i are researching the differin...</td>\n",
       "      <td>0</td>\n",
       "      <td>324</td>\n",
       "      <td>a colleague and i are researching the differin...</td>\n",
       "      <td>colleague researching differing degrees risk p...</td>\n",
       "    </tr>\n",
       "    <tr>\n",
       "      <th>4</th>\n",
       "      <td>earlier this morning i was on the phone with a...</td>\n",
       "      <td>0</td>\n",
       "      <td>1046</td>\n",
       "      <td>earlier this morning i was on the phone with a...</td>\n",
       "      <td>earlier morning phone friend mine living south...</td>\n",
       "    </tr>\n",
       "  </tbody>\n",
       "</table>\n",
       "</div>"
      ],
      "text/plain": [
       "                                             Message  Class  length                                 Message_clean_text                           Message_remove_stopwords\n",
       "0  content - length : 3386 apple-iss research cen...      0    2856  content length apple iss research center a us ...  content length apple iss research center us mi...\n",
       "1  lang classification grimes , joseph e . and ba...      0    1800  lang classification grimes joseph e and barbar...  lang classification grimes joseph e barbara f ...\n",
       "2  i am posting this inquiry for sergei atamas ( ...      0    1435  i am posting this inquiry for sergei atamas sa...  posting inquiry sergei atamas satamas umabnet ...\n",
       "3  a colleague and i are researching the differin...      0     324  a colleague and i are researching the differin...  colleague researching differing degrees risk p...\n",
       "4  earlier this morning i was on the phone with a...      0    1046  earlier this morning i was on the phone with a...  earlier morning phone friend mine living south..."
      ]
     },
     "execution_count": 16,
     "metadata": {},
     "output_type": "execute_result"
    }
   ],
   "source": [
    "# Getting the stop words\n",
    "\n",
    "stop_words = stopwords.words('english')\n",
    "print(stop_words[::10])\n",
    "\n",
    "# The function to removing stopwords\n",
    "\n",
    "def remove_stopwords(text):\n",
    "\n",
    "    text = [word.lower() for word in text.split() if word.lower() not in stop_words]\n",
    "    return \" \".join(text)\n",
    "\n",
    "data['Message_remove_stopwords'] = data['Message_clean_text'].apply(remove_stopwords)\n",
    "data.head()"
   ]
  },
  {
   "cell_type": "markdown",
   "metadata": {},
   "source": [
    "### Applying Stemming"
   ]
  },
  {
   "cell_type": "code",
   "execution_count": 17,
   "metadata": {},
   "outputs": [
    {
     "data": {
      "text/html": [
       "<div>\n",
       "<style scoped>\n",
       "    .dataframe tbody tr th:only-of-type {\n",
       "        vertical-align: middle;\n",
       "    }\n",
       "\n",
       "    .dataframe tbody tr th {\n",
       "        vertical-align: top;\n",
       "    }\n",
       "\n",
       "    .dataframe thead th {\n",
       "        text-align: right;\n",
       "    }\n",
       "</style>\n",
       "<table border=\"1\" class=\"dataframe\">\n",
       "  <thead>\n",
       "    <tr style=\"text-align: right;\">\n",
       "      <th></th>\n",
       "      <th>Message</th>\n",
       "      <th>Class</th>\n",
       "      <th>length</th>\n",
       "      <th>Message_clean_text</th>\n",
       "      <th>Message_remove_stopwords</th>\n",
       "      <th>message</th>\n",
       "    </tr>\n",
       "  </thead>\n",
       "  <tbody>\n",
       "    <tr>\n",
       "      <th>0</th>\n",
       "      <td>content - length : 3386 apple-iss research cen...</td>\n",
       "      <td>0</td>\n",
       "      <td>2856</td>\n",
       "      <td>content length apple iss research center a us ...</td>\n",
       "      <td>content length apple iss research center us mi...</td>\n",
       "      <td>content length appl iss research center us mil...</td>\n",
       "    </tr>\n",
       "    <tr>\n",
       "      <th>1</th>\n",
       "      <td>lang classification grimes , joseph e . and ba...</td>\n",
       "      <td>0</td>\n",
       "      <td>1800</td>\n",
       "      <td>lang classification grimes joseph e and barbar...</td>\n",
       "      <td>lang classification grimes joseph e barbara f ...</td>\n",
       "      <td>lang classif grime joseph e barbara f grime et...</td>\n",
       "    </tr>\n",
       "    <tr>\n",
       "      <th>2</th>\n",
       "      <td>i am posting this inquiry for sergei atamas ( ...</td>\n",
       "      <td>0</td>\n",
       "      <td>1435</td>\n",
       "      <td>i am posting this inquiry for sergei atamas sa...</td>\n",
       "      <td>posting inquiry sergei atamas satamas umabnet ...</td>\n",
       "      <td>post inquiri sergei atama satama umabnet ab um...</td>\n",
       "    </tr>\n",
       "    <tr>\n",
       "      <th>3</th>\n",
       "      <td>a colleague and i are researching the differin...</td>\n",
       "      <td>0</td>\n",
       "      <td>324</td>\n",
       "      <td>a colleague and i are researching the differin...</td>\n",
       "      <td>colleague researching differing degrees risk p...</td>\n",
       "      <td>colleagu research differ degre risk perceiv ho...</td>\n",
       "    </tr>\n",
       "    <tr>\n",
       "      <th>4</th>\n",
       "      <td>earlier this morning i was on the phone with a...</td>\n",
       "      <td>0</td>\n",
       "      <td>1046</td>\n",
       "      <td>earlier this morning i was on the phone with a...</td>\n",
       "      <td>earlier morning phone friend mine living south...</td>\n",
       "      <td>earlier morn phone friend mine live south amer...</td>\n",
       "    </tr>\n",
       "  </tbody>\n",
       "</table>\n",
       "</div>"
      ],
      "text/plain": [
       "                                             Message  Class  length                                 Message_clean_text                           Message_remove_stopwords                                            message\n",
       "0  content - length : 3386 apple-iss research cen...      0    2856  content length apple iss research center a us ...  content length apple iss research center us mi...  content length appl iss research center us mil...\n",
       "1  lang classification grimes , joseph e . and ba...      0    1800  lang classification grimes joseph e and barbar...  lang classification grimes joseph e barbara f ...  lang classif grime joseph e barbara f grime et...\n",
       "2  i am posting this inquiry for sergei atamas ( ...      0    1435  i am posting this inquiry for sergei atamas sa...  posting inquiry sergei atamas satamas umabnet ...  post inquiri sergei atama satama umabnet ab um...\n",
       "3  a colleague and i are researching the differin...      0     324  a colleague and i are researching the differin...  colleague researching differing degrees risk p...  colleagu research differ degre risk perceiv ho...\n",
       "4  earlier this morning i was on the phone with a...      0    1046  earlier this morning i was on the phone with a...  earlier morning phone friend mine living south...  earlier morn phone friend mine live south amer..."
      ]
     },
     "execution_count": 17,
     "metadata": {},
     "output_type": "execute_result"
    }
   ],
   "source": [
    "porter = PorterStemmer()\n",
    "\n",
    "# The function to apply stemming\n",
    "\n",
    "def stemmer(stem_text):\n",
    "\n",
    "    stem_text = [porter.stem(word) for word in stem_text.split()]\n",
    "    return \" \".join(stem_text)\n",
    "\n",
    "data['message'] = data['Message_remove_stopwords'].apply(stemmer)\n",
    "data.head()"
   ]
  },
  {
   "cell_type": "code",
   "execution_count": 18,
   "metadata": {},
   "outputs": [
    {
     "name": "stdout",
     "output_type": "stream",
     "text": [
      "810324\n"
     ]
    }
   ],
   "source": [
    "#total number of words \n",
    "\n",
    "print(data['message'].apply(lambda x: len(x.split(' '))).sum())"
   ]
  },
  {
   "cell_type": "markdown",
   "metadata": {},
   "source": [
    "#### After text cleaning and removing stop words, we have only 810324 words"
   ]
  },
  {
   "cell_type": "markdown",
   "metadata": {},
   "source": [
    "## Vectorization\n",
    "To run machine learning algorithms we need to convert text files into numerical feature vectors. \n",
    "\n",
    "We will use bag of words model for our analysis.\n",
    "\n",
    "We spliting the complete data into X as message and y as class values:"
   ]
  },
  {
   "cell_type": "code",
   "execution_count": 19,
   "metadata": {},
   "outputs": [],
   "source": [
    "X = data['message']\n",
    "y = data['Class']"
   ]
  },
  {
   "cell_type": "code",
   "execution_count": 20,
   "metadata": {},
   "outputs": [
    {
     "data": {
      "text/plain": [
       "27479"
      ]
     },
     "execution_count": 20,
     "metadata": {},
     "output_type": "execute_result"
    }
   ],
   "source": [
    "vect = CountVectorizer(min_df=5, ngram_range=(1,2)).fit(X)\n",
    "\n",
    "X_vec = vect.transform(X)\n",
    "\n",
    "len(vect.get_feature_names())"
   ]
  },
  {
   "cell_type": "markdown",
   "metadata": {},
   "source": [
    "#### We will split the data into a training and a test part. The models will be trained on the training data set and tested on the test data set"
   ]
  },
  {
   "cell_type": "code",
   "execution_count": 21,
   "metadata": {},
   "outputs": [
    {
     "name": "stdout",
     "output_type": "stream",
     "text": [
      "(2314, 27479)\n",
      "(579, 27479)\n",
      "(2314,)\n",
      "(579,)\n"
     ]
    }
   ],
   "source": [
    "X_train, X_test, y_train, y_test = train_test_split(X_vec, y, test_size=0.2, random_state = 0)\n",
    "\n",
    "print(X_train.shape)\n",
    "print(X_test.shape)\n",
    "print(y_train.shape)\n",
    "print(y_test.shape)"
   ]
  },
  {
   "cell_type": "markdown",
   "metadata": {},
   "source": [
    "### SMOTE\n",
    "\n",
    "The target class variable is imbalanced, The simplest way to improve imbalanced dataset is balancing them by oversampling instances of the minority class or undersampling instances of the majority class. \n",
    "\n",
    "We will try to balancing classes by using one of the advanced techniques like the SMOTE method \n",
    "\n",
    "(Synthetic Minority Over-sampling Technique).\n",
    "\n",
    "\n",
    "SMOTE technique is one of the most commonly used oversampling methods to solve the imbalance problem. \n",
    "It goal is to balance class distribution by randomly increasing minority class examples by replicating them.\n"
   ]
  },
  {
   "cell_type": "code",
   "execution_count": 22,
   "metadata": {},
   "outputs": [],
   "source": [
    "# We will use imbalanced-learn library to apply SMOTE method\n",
    "\n",
    "smote = SMOTE()\n",
    "X_train_sm,y_train_sm = smote.fit_resample(X_train,y_train)"
   ]
  },
  {
   "cell_type": "code",
   "execution_count": 23,
   "metadata": {},
   "outputs": [
    {
     "name": "stdout",
     "output_type": "stream",
     "text": [
      "(3876, 27479)\n",
      "(3876,)\n"
     ]
    }
   ],
   "source": [
    "# shape of training and testing after SMOTE\n",
    "\n",
    "print(X_train_sm.shape)\n",
    "print(y_train_sm.shape)"
   ]
  },
  {
   "cell_type": "markdown",
   "metadata": {},
   "source": [
    "## Model Building"
   ]
  },
  {
   "cell_type": "markdown",
   "metadata": {},
   "source": [
    "We use the following classification models:\n",
    "\n",
    "1. Decision tree Classifier\n",
    "2. Naive Bayes Classifier\n",
    "3. Random Forest Classifier\n",
    "4. Gradient Boosting\n",
    "5. SVM (Support Vector Machine)\n",
    "6. Stochastic Gradient Descent\n",
    "\n",
    "#### To make the vectorizer > transformer > classifier easier to work with, we will use Pipeline class in SK-Learn."
   ]
  },
  {
   "cell_type": "markdown",
   "metadata": {},
   "source": [
    "## Decision tree Classifier"
   ]
  },
  {
   "cell_type": "code",
   "execution_count": 25,
   "metadata": {},
   "outputs": [
    {
     "name": "stdout",
     "output_type": "stream",
     "text": [
      "accuracy 0.9602763385146805\n",
      "              precision    recall  f1-score   support\n",
      "\n",
      "           0       0.99      0.96      0.98       474\n",
      "           1       0.85      0.94      0.90       105\n",
      "\n",
      "    accuracy                           0.96       579\n",
      "   macro avg       0.92      0.95      0.94       579\n",
      "weighted avg       0.96      0.96      0.96       579\n",
      "\n"
     ]
    }
   ],
   "source": [
    "model_dtc = Pipeline([('tfidf', TfidfTransformer()),\n",
    "                   ('model',DecisionTreeClassifier()),\n",
    "                   ])\n",
    "\n",
    "model_dtc.fit(X_train_sm,y_train_sm)\n",
    "\n",
    "ytest = np.array(y_test)\n",
    "pred_0 = model_dtc.predict(X_test)\n",
    "\n",
    "print('accuracy %s' % accuracy_score(pred_0, y_test))\n",
    "print(classification_report(ytest, pred_0))"
   ]
  },
  {
   "cell_type": "markdown",
   "metadata": {},
   "source": [
    "## Naive Bayes Classifier"
   ]
  },
  {
   "cell_type": "code",
   "execution_count": 26,
   "metadata": {},
   "outputs": [
    {
     "name": "stdout",
     "output_type": "stream",
     "text": [
      "accuracy 0.9965457685664939\n",
      "              precision    recall  f1-score   support\n",
      "\n",
      "           0       1.00      1.00      1.00       474\n",
      "           1       0.99      0.99      0.99       105\n",
      "\n",
      "    accuracy                           1.00       579\n",
      "   macro avg       0.99      0.99      0.99       579\n",
      "weighted avg       1.00      1.00      1.00       579\n",
      "\n"
     ]
    }
   ],
   "source": [
    "model_nbc = Pipeline([('tfidf', TfidfTransformer()),\n",
    "                   ('model',MultinomialNB()),\n",
    "                   ])\n",
    "\n",
    "model_nbc.fit(X_train_sm,y_train_sm)\n",
    "\n",
    "ytest = np.array(y_test)\n",
    "pred_1 = model_nbc.predict(X_test)\n",
    "\n",
    "print('accuracy %s' % accuracy_score(pred_1, y_test))\n",
    "print(classification_report(ytest, pred_1))"
   ]
  },
  {
   "cell_type": "markdown",
   "metadata": {},
   "source": [
    "## Random Forest Classifier"
   ]
  },
  {
   "cell_type": "code",
   "execution_count": 27,
   "metadata": {},
   "outputs": [
    {
     "name": "stdout",
     "output_type": "stream",
     "text": [
      "accuracy 0.9879101899827288\n",
      "              precision    recall  f1-score   support\n",
      "\n",
      "           0       1.00      0.99      0.99       474\n",
      "           1       0.95      0.99      0.97       105\n",
      "\n",
      "    accuracy                           0.99       579\n",
      "   macro avg       0.97      0.99      0.98       579\n",
      "weighted avg       0.99      0.99      0.99       579\n",
      "\n"
     ]
    }
   ],
   "source": [
    "model_rfc = Pipeline([('tfidf', TfidfTransformer()),\n",
    "                   ('model',RandomForestClassifier(n_estimators=50)),\n",
    "                   ])\n",
    "\n",
    "model_rfc.fit(X_train_sm,y_train_sm)\n",
    "\n",
    "ytest = np.array(y_test)\n",
    "pred_2 = model_rfc.predict(X_test)\n",
    "\n",
    "print('accuracy %s' % accuracy_score(pred_2, y_test))\n",
    "print(classification_report(ytest, pred_2))"
   ]
  },
  {
   "cell_type": "markdown",
   "metadata": {},
   "source": [
    "## Gradient Boosting Classifier"
   ]
  },
  {
   "cell_type": "code",
   "execution_count": 28,
   "metadata": {},
   "outputs": [
    {
     "name": "stdout",
     "output_type": "stream",
     "text": [
      "accuracy 0.9602763385146805\n",
      "              precision    recall  f1-score   support\n",
      "\n",
      "           0       1.00      0.96      0.98       474\n",
      "           1       0.83      0.98      0.90       105\n",
      "\n",
      "    accuracy                           0.96       579\n",
      "   macro avg       0.91      0.97      0.94       579\n",
      "weighted avg       0.97      0.96      0.96       579\n",
      "\n"
     ]
    }
   ],
   "source": [
    "model_gbc = Pipeline([('tfidf', TfidfTransformer()),\n",
    "                    ('model', GradientBoostingClassifier(random_state=100, \n",
    "                                                         n_estimators=150,\n",
    "                                                         min_samples_split=100, \n",
    "                                                         max_depth=6)),  ])\n",
    "\n",
    "model_gbc.fit(X_train_sm,y_train_sm)\n",
    "\n",
    "ytest = np.array(y_test)\n",
    "pred_3 = model_gbc.predict(X_test)\n",
    "\n",
    "print('accuracy %s' % accuracy_score(pred_3, y_test))\n",
    "print(classification_report(ytest, pred_3))"
   ]
  },
  {
   "cell_type": "markdown",
   "metadata": {},
   "source": [
    "## LinearSVC"
   ]
  },
  {
   "cell_type": "code",
   "execution_count": 29,
   "metadata": {},
   "outputs": [
    {
     "name": "stdout",
     "output_type": "stream",
     "text": [
      "accuracy 0.9930915371329879\n",
      "              precision    recall  f1-score   support\n",
      "\n",
      "           0       1.00      0.99      1.00       474\n",
      "           1       0.96      1.00      0.98       105\n",
      "\n",
      "    accuracy                           0.99       579\n",
      "   macro avg       0.98      1.00      0.99       579\n",
      "weighted avg       0.99      0.99      0.99       579\n",
      "\n"
     ]
    }
   ],
   "source": [
    "model_svc = Pipeline([('tfidf', TfidfTransformer()),\n",
    "                     ('model',LinearSVC()),\n",
    "                     ])\n",
    "\n",
    "model_svc.fit(X_train_sm,y_train_sm)\n",
    "\n",
    "ytest = np.array(y_test)\n",
    "pred_4 = model_svc.predict(X_test)\n",
    "\n",
    "print('accuracy %s' % accuracy_score(pred_4, y_test))\n",
    "print(classification_report(ytest, pred_4))"
   ]
  },
  {
   "cell_type": "markdown",
   "metadata": {},
   "source": [
    "## Stochastic Gradient Descent"
   ]
  },
  {
   "cell_type": "code",
   "execution_count": 30,
   "metadata": {},
   "outputs": [
    {
     "name": "stdout",
     "output_type": "stream",
     "text": [
      "accuracy 0.9827288428324698\n",
      "              precision    recall  f1-score   support\n",
      "\n",
      "           0       1.00      0.98      0.99       474\n",
      "           1       0.91      1.00      0.95       105\n",
      "\n",
      "    accuracy                           0.98       579\n",
      "   macro avg       0.96      0.99      0.97       579\n",
      "weighted avg       0.98      0.98      0.98       579\n",
      "\n"
     ]
    }
   ],
   "source": [
    "model_sgd = Pipeline([('tfidf', TfidfTransformer()),\n",
    "                     ('model',SGDClassifier()),\n",
    "                     ])\n",
    "\n",
    "model_sgd.fit(X_train_sm,y_train_sm)\n",
    "\n",
    "ytest = np.array(y_test)\n",
    "pred_5 = model_sgd.predict(X_test)\n",
    "\n",
    "print('accuracy %s' % accuracy_score(pred_5, y_test))\n",
    "print(classification_report(ytest, pred_5))"
   ]
  },
  {
   "cell_type": "markdown",
   "metadata": {},
   "source": [
    "## Accuracy of different model \n",
    "\n",
    "We tested six different models and now we will be finding the best model with accuracy."
   ]
  },
  {
   "cell_type": "code",
   "execution_count": 31,
   "metadata": {},
   "outputs": [],
   "source": [
    "dec_acc = accuracy_score(pred_0, y_test)\n",
    "nb_acc  = accuracy_score(pred_1, y_test)\n",
    "rf_acc  = accuracy_score(pred_2, y_test)\n",
    "gb_acc  = accuracy_score(pred_3, y_test)\n",
    "svm_acc = accuracy_score(pred_4, y_test)\n",
    "sg_acc  = accuracy_score(pred_5, y_test)"
   ]
  },
  {
   "cell_type": "code",
   "execution_count": 32,
   "metadata": {},
   "outputs": [
    {
     "data": {
      "text/html": [
       "<div>\n",
       "<style scoped>\n",
       "    .dataframe tbody tr th:only-of-type {\n",
       "        vertical-align: middle;\n",
       "    }\n",
       "\n",
       "    .dataframe tbody tr th {\n",
       "        vertical-align: top;\n",
       "    }\n",
       "\n",
       "    .dataframe thead th {\n",
       "        text-align: right;\n",
       "    }\n",
       "</style>\n",
       "<table border=\"1\" class=\"dataframe\">\n",
       "  <thead>\n",
       "    <tr style=\"text-align: right;\">\n",
       "      <th></th>\n",
       "      <th>Model</th>\n",
       "      <th>Score</th>\n",
       "    </tr>\n",
       "  </thead>\n",
       "  <tbody>\n",
       "    <tr>\n",
       "      <th>1</th>\n",
       "      <td>Naive Bayes</td>\n",
       "      <td>0.996546</td>\n",
       "    </tr>\n",
       "    <tr>\n",
       "      <th>4</th>\n",
       "      <td>SVM</td>\n",
       "      <td>0.993092</td>\n",
       "    </tr>\n",
       "    <tr>\n",
       "      <th>2</th>\n",
       "      <td>Random Forest</td>\n",
       "      <td>0.987910</td>\n",
       "    </tr>\n",
       "    <tr>\n",
       "      <th>5</th>\n",
       "      <td>SGD</td>\n",
       "      <td>0.982729</td>\n",
       "    </tr>\n",
       "    <tr>\n",
       "      <th>0</th>\n",
       "      <td>Decision Tree</td>\n",
       "      <td>0.960276</td>\n",
       "    </tr>\n",
       "    <tr>\n",
       "      <th>3</th>\n",
       "      <td>Gradient Boosting</td>\n",
       "      <td>0.960276</td>\n",
       "    </tr>\n",
       "  </tbody>\n",
       "</table>\n",
       "</div>"
      ],
      "text/plain": [
       "               Model     Score\n",
       "1        Naive Bayes  0.996546\n",
       "4                SVM  0.993092\n",
       "2      Random Forest  0.987910\n",
       "5                SGD  0.982729\n",
       "0      Decision Tree  0.960276\n",
       "3  Gradient Boosting  0.960276"
      ]
     },
     "execution_count": 32,
     "metadata": {},
     "output_type": "execute_result"
    }
   ],
   "source": [
    "# Geeting the best accuracy from these 6 models\n",
    "\n",
    "models = pd.DataFrame({\n",
    "                      'Model': ['Decision Tree', 'Naive Bayes', 'Random Forest', 'Gradient Boosting', 'SVM', 'SGD'],\n",
    "                      'Score': [dec_acc, nb_acc, rf_acc, gb_acc, svm_acc, sg_acc]})\n",
    "\n",
    "models.sort_values(by='Score', ascending=False)"
   ]
  },
  {
   "cell_type": "markdown",
   "metadata": {},
   "source": [
    "## joblib to save\n"
   ]
  },
  {
   "cell_type": "code",
   "execution_count": 33,
   "metadata": {},
   "outputs": [
    {
     "data": {
      "text/plain": [
       "['spam.pkl']"
      ]
     },
     "execution_count": 33,
     "metadata": {},
     "output_type": "execute_result"
    }
   ],
   "source": [
    "# saving the best model based on accuracy\n",
    "\n",
    "joblib.dump(model_nbc,'spam.pkl')"
   ]
  },
  {
   "cell_type": "markdown",
   "metadata": {},
   "source": [
    "## Conclusion\n",
    "This project was aimed to text classification to determined whether the email is spam or not.\n",
    "We started with the data cleaning and text mining, which cover change text into tokens, remove punctuation, \n",
    "stop words and normalization them by stemming.\n",
    "Following we used bag of words model to convert the text into numerical feature vectors. \n",
    "\n",
    "Finally we started training six different classification models and we got the best accuracy of 0.996 for Naive Bayes method and 0.993 for SVM."
   ]
  },
  {
   "cell_type": "code",
   "execution_count": null,
   "metadata": {},
   "outputs": [],
   "source": []
  }
 ],
 "metadata": {
  "kernelspec": {
   "display_name": "Python 3",
   "language": "python",
   "name": "python3"
  },
  "language_info": {
   "codemirror_mode": {
    "name": "ipython",
    "version": 3
   },
   "file_extension": ".py",
   "mimetype": "text/x-python",
   "name": "python",
   "nbconvert_exporter": "python",
   "pygments_lexer": "ipython3",
   "version": "3.8.5"
  }
 },
 "nbformat": 4,
 "nbformat_minor": 4
}
